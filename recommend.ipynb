{
  "nbformat": 4,
  "nbformat_minor": 0,
  "metadata": {
    "colab": {
      "provenance": [],
      "authorship_tag": "ABX9TyOYNp2bMjDpr3p7T7tT8U9L",
      "include_colab_link": true
    },
    "kernelspec": {
      "name": "python3",
      "display_name": "Python 3"
    },
    "language_info": {
      "name": "python"
    }
  },
  "cells": [
    {
      "cell_type": "markdown",
      "metadata": {
        "id": "view-in-github",
        "colab_type": "text"
      },
      "source": [
        "<a href=\"https://colab.research.google.com/github/vishwa-R13/Cinema_ticket/blob/main/recommend.ipynb\" target=\"_parent\"><img src=\"https://colab.research.google.com/assets/colab-badge.svg\" alt=\"Open In Colab\"/></a>"
      ]
    },
    {
      "cell_type": "code",
      "execution_count": null,
      "metadata": {
        "id": "DiAcP4Phnd2y",
        "colab": {
          "base_uri": "https://localhost:8080/"
        },
        "outputId": "fd2b53fc-0305-4147-94b1-83044347e9e6"
      },
      "outputs": [
        {
          "output_type": "stream",
          "name": "stdout",
          "text": [
            "🔍 Recommendations for cuisine=North Indian, locality=Indiranagar, max_cost=800, min_rating=4.0\n",
            "\n",
            "                 Restaurant Name                Cuisines  \\\n",
            "9173              Barbeque Ville            North Indian   \n",
            "731             Glen's Bakehouse  Bakery, Desserts, Cafe   \n",
            "9148                #Dilliwaala6            North Indian   \n",
            "4444                      Chowki            North Indian   \n",
            "2224       Indian Bistro Company            North Indian   \n",
            "4544  Chawla's Tandoori Junction            North Indian   \n",
            "2543               Eastern Spice            North Indian   \n",
            "8255                       Noshh            North Indian   \n",
            "2511                Tandooriwala            North Indian   \n",
            "7451           Galina Restaurant            North Indian   \n",
            "\n",
            "                                    Locality  Aggregate rating  \\\n",
            "9173                                   Wakad               4.4   \n",
            "731                              Indiranagar               4.0   \n",
            "9148                              White Town               3.7   \n",
            "4444                                 Kalkaji               3.7   \n",
            "2224  Unitech Cyber Park, Sector 39, Gurgaon               3.7   \n",
            "4544                             Karkardooma               3.5   \n",
            "2543                Bon Vivant, College Road               3.5   \n",
            "8255                              Sector 110               3.6   \n",
            "2511                            Kuvempunagar               3.5   \n",
            "7451                           Tagore Garden               3.5   \n",
            "\n",
            "      Average Cost for two  \n",
            "9173                  1000  \n",
            "731                    800  \n",
            "9148                   800  \n",
            "4444                   750  \n",
            "2224                   750  \n",
            "4544                   800  \n",
            "2543                   800  \n",
            "8255                   850  \n",
            "2511                   700  \n",
            "7451                   700  \n"
          ]
        }
      ],
      "source": [
        "import pandas as pd\n",
        "import numpy as np\n",
        "from sklearn.preprocessing import OneHotEncoder\n",
        "from sklearn.metrics.pairwise import cosine_similarity\n",
        "\n",
        "df = pd.read_csv('tasks.csv')\n",
        "\n",
        "df['Cuisines'] = df['Cuisines'].fillna('Unknown')\n",
        "df['Locality'] = df['Locality'].fillna('Unknown')\n",
        "df['Average Cost for two'] = df['Average Cost for two'].fillna(df['Average Cost for two'].median())\n",
        "df['Aggregate rating'] = df['Aggregate rating'].fillna(df['Aggregate rating'].mean())\n",
        "\n",
        "features_df = df[['Cuisines', 'Locality', 'Average Cost for two', 'Aggregate rating']]\n",
        "\n",
        "encoder = OneHotEncoder(handle_unknown='ignore')\n",
        "encoded_cats = encoder.fit_transform(features_df[['Cuisines', 'Locality']])\n",
        "\n",
        "num_features = features_df[['Average Cost for two', 'Aggregate rating']].values\n",
        "\n",
        "X = np.hstack([encoded_cats.toarray(), num_features])\n",
        "\n",
        "def build_user_vector(preferred_cuisine, preferred_locality, max_cost, min_rating):\n",
        "    # Make a dummy user profile\n",
        "    user_df = pd.DataFrame([{\n",
        "        'Cuisines': preferred_cuisine,\n",
        "        'Locality': preferred_locality,\n",
        "        'Average Cost for two': max_cost,\n",
        "        'Aggregate rating': min_rating,\n",
        "    }])\n",
        "    encoded_cats_user = encoder.transform(user_df[['Cuisines', 'Locality']]).toarray()\n",
        "    num_feats_user = user_df[['Average Cost for two', 'Aggregate rating']].values\n",
        "    return np.hstack([encoded_cats_user, num_feats_user])\n",
        "\n",
        "def recommend_restaurants(preferred_cuisine, preferred_locality, max_cost, min_rating, top_n=10):\n",
        "    user_vector = build_user_vector(preferred_cuisine, preferred_locality, max_cost, min_rating)\n",
        "    sims = cosine_similarity(user_vector, X)[0]\n",
        "    top_indices = sims.argsort()[::-1][:top_n]\n",
        "\n",
        "    return df.iloc[top_indices][['Restaurant Name', 'Cuisines', 'Locality', 'Aggregate rating', 'Average Cost for two']]\n",
        "\n",
        "if __name__ == \"__main__\":\n",
        "    # Example preferences\n",
        "    preferred_cuisine = 'North Indian'\n",
        "    preferred_locality = 'Indiranagar'\n",
        "    max_cost = 800\n",
        "    min_rating = 4.0\n",
        "\n",
        "    print(f\"🔍 Recommendations for cuisine={preferred_cuisine}, locality={preferred_locality}, max_cost={max_cost}, min_rating={min_rating}\\n\")\n",
        "    recommendations = recommend_restaurants(preferred_cuisine, preferred_locality, max_cost, min_rating, top_n=10)\n",
        "    print(recommendations)\n"
      ]
    }
  ]
}